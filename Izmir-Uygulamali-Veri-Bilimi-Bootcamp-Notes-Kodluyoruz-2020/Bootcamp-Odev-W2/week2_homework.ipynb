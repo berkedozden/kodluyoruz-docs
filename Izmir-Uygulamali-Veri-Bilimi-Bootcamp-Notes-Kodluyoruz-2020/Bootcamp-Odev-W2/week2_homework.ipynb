{
 "cells": [
  {
   "cell_type": "markdown",
   "metadata": {},
   "source": [
    "titanic datasını okuyunuz(<b>train.csv</b>). Ödevin geri kalanında dataframe gösterimlerini <b>display()</b> fonksiyonunu kullanarak yapınız.<br> Örn: display(titanic_df)"
   ]
  },
  {
   "cell_type": "code",
   "execution_count": 141,
   "metadata": {},
   "outputs": [],
   "source": [
    "import numpy as np\n",
    "import pandas as pd\n",
    "import matplotlib.pyplot as plt\n",
    "%matplotlib inline"
   ]
  },
  {
   "cell_type": "code",
   "execution_count": 142,
   "metadata": {},
   "outputs": [
    {
     "data": {
      "text/html": [
       "<div>\n",
       "<style scoped>\n",
       "    .dataframe tbody tr th:only-of-type {\n",
       "        vertical-align: middle;\n",
       "    }\n",
       "\n",
       "    .dataframe tbody tr th {\n",
       "        vertical-align: top;\n",
       "    }\n",
       "\n",
       "    .dataframe thead th {\n",
       "        text-align: right;\n",
       "    }\n",
       "</style>\n",
       "<table border=\"1\" class=\"dataframe\">\n",
       "  <thead>\n",
       "    <tr style=\"text-align: right;\">\n",
       "      <th></th>\n",
       "      <th>PassengerId</th>\n",
       "      <th>Survived</th>\n",
       "      <th>Pclass</th>\n",
       "      <th>Name</th>\n",
       "      <th>Sex</th>\n",
       "      <th>Age</th>\n",
       "      <th>SibSp</th>\n",
       "      <th>Parch</th>\n",
       "      <th>Ticket</th>\n",
       "      <th>Fare</th>\n",
       "      <th>Cabin</th>\n",
       "      <th>Embarked</th>\n",
       "    </tr>\n",
       "  </thead>\n",
       "  <tbody>\n",
       "    <tr>\n",
       "      <th>0</th>\n",
       "      <td>1</td>\n",
       "      <td>0</td>\n",
       "      <td>3</td>\n",
       "      <td>Braund, Mr. Owen Harris</td>\n",
       "      <td>male</td>\n",
       "      <td>22.0</td>\n",
       "      <td>1</td>\n",
       "      <td>0</td>\n",
       "      <td>A/5 21171</td>\n",
       "      <td>7.2500</td>\n",
       "      <td>NaN</td>\n",
       "      <td>S</td>\n",
       "    </tr>\n",
       "    <tr>\n",
       "      <th>1</th>\n",
       "      <td>2</td>\n",
       "      <td>1</td>\n",
       "      <td>1</td>\n",
       "      <td>Cumings, Mrs. John Bradley (Florence Briggs Th...</td>\n",
       "      <td>female</td>\n",
       "      <td>38.0</td>\n",
       "      <td>1</td>\n",
       "      <td>0</td>\n",
       "      <td>PC 17599</td>\n",
       "      <td>71.2833</td>\n",
       "      <td>C85</td>\n",
       "      <td>C</td>\n",
       "    </tr>\n",
       "    <tr>\n",
       "      <th>2</th>\n",
       "      <td>3</td>\n",
       "      <td>1</td>\n",
       "      <td>3</td>\n",
       "      <td>Heikkinen, Miss. Laina</td>\n",
       "      <td>female</td>\n",
       "      <td>26.0</td>\n",
       "      <td>0</td>\n",
       "      <td>0</td>\n",
       "      <td>STON/O2. 3101282</td>\n",
       "      <td>7.9250</td>\n",
       "      <td>NaN</td>\n",
       "      <td>S</td>\n",
       "    </tr>\n",
       "    <tr>\n",
       "      <th>3</th>\n",
       "      <td>4</td>\n",
       "      <td>1</td>\n",
       "      <td>1</td>\n",
       "      <td>Futrelle, Mrs. Jacques Heath (Lily May Peel)</td>\n",
       "      <td>female</td>\n",
       "      <td>35.0</td>\n",
       "      <td>1</td>\n",
       "      <td>0</td>\n",
       "      <td>113803</td>\n",
       "      <td>53.1000</td>\n",
       "      <td>C123</td>\n",
       "      <td>S</td>\n",
       "    </tr>\n",
       "    <tr>\n",
       "      <th>4</th>\n",
       "      <td>5</td>\n",
       "      <td>0</td>\n",
       "      <td>3</td>\n",
       "      <td>Allen, Mr. William Henry</td>\n",
       "      <td>male</td>\n",
       "      <td>35.0</td>\n",
       "      <td>0</td>\n",
       "      <td>0</td>\n",
       "      <td>373450</td>\n",
       "      <td>8.0500</td>\n",
       "      <td>NaN</td>\n",
       "      <td>S</td>\n",
       "    </tr>\n",
       "    <tr>\n",
       "      <th>...</th>\n",
       "      <td>...</td>\n",
       "      <td>...</td>\n",
       "      <td>...</td>\n",
       "      <td>...</td>\n",
       "      <td>...</td>\n",
       "      <td>...</td>\n",
       "      <td>...</td>\n",
       "      <td>...</td>\n",
       "      <td>...</td>\n",
       "      <td>...</td>\n",
       "      <td>...</td>\n",
       "      <td>...</td>\n",
       "    </tr>\n",
       "    <tr>\n",
       "      <th>886</th>\n",
       "      <td>887</td>\n",
       "      <td>0</td>\n",
       "      <td>2</td>\n",
       "      <td>Montvila, Rev. Juozas</td>\n",
       "      <td>male</td>\n",
       "      <td>27.0</td>\n",
       "      <td>0</td>\n",
       "      <td>0</td>\n",
       "      <td>211536</td>\n",
       "      <td>13.0000</td>\n",
       "      <td>NaN</td>\n",
       "      <td>S</td>\n",
       "    </tr>\n",
       "    <tr>\n",
       "      <th>887</th>\n",
       "      <td>888</td>\n",
       "      <td>1</td>\n",
       "      <td>1</td>\n",
       "      <td>Graham, Miss. Margaret Edith</td>\n",
       "      <td>female</td>\n",
       "      <td>19.0</td>\n",
       "      <td>0</td>\n",
       "      <td>0</td>\n",
       "      <td>112053</td>\n",
       "      <td>30.0000</td>\n",
       "      <td>B42</td>\n",
       "      <td>S</td>\n",
       "    </tr>\n",
       "    <tr>\n",
       "      <th>888</th>\n",
       "      <td>889</td>\n",
       "      <td>0</td>\n",
       "      <td>3</td>\n",
       "      <td>Johnston, Miss. Catherine Helen \"Carrie\"</td>\n",
       "      <td>female</td>\n",
       "      <td>NaN</td>\n",
       "      <td>1</td>\n",
       "      <td>2</td>\n",
       "      <td>W./C. 6607</td>\n",
       "      <td>23.4500</td>\n",
       "      <td>NaN</td>\n",
       "      <td>S</td>\n",
       "    </tr>\n",
       "    <tr>\n",
       "      <th>889</th>\n",
       "      <td>890</td>\n",
       "      <td>1</td>\n",
       "      <td>1</td>\n",
       "      <td>Behr, Mr. Karl Howell</td>\n",
       "      <td>male</td>\n",
       "      <td>26.0</td>\n",
       "      <td>0</td>\n",
       "      <td>0</td>\n",
       "      <td>111369</td>\n",
       "      <td>30.0000</td>\n",
       "      <td>C148</td>\n",
       "      <td>C</td>\n",
       "    </tr>\n",
       "    <tr>\n",
       "      <th>890</th>\n",
       "      <td>891</td>\n",
       "      <td>0</td>\n",
       "      <td>3</td>\n",
       "      <td>Dooley, Mr. Patrick</td>\n",
       "      <td>male</td>\n",
       "      <td>32.0</td>\n",
       "      <td>0</td>\n",
       "      <td>0</td>\n",
       "      <td>370376</td>\n",
       "      <td>7.7500</td>\n",
       "      <td>NaN</td>\n",
       "      <td>Q</td>\n",
       "    </tr>\n",
       "  </tbody>\n",
       "</table>\n",
       "<p>891 rows × 12 columns</p>\n",
       "</div>"
      ],
      "text/plain": [
       "     PassengerId  Survived  Pclass  \\\n",
       "0              1         0       3   \n",
       "1              2         1       1   \n",
       "2              3         1       3   \n",
       "3              4         1       1   \n",
       "4              5         0       3   \n",
       "..           ...       ...     ...   \n",
       "886          887         0       2   \n",
       "887          888         1       1   \n",
       "888          889         0       3   \n",
       "889          890         1       1   \n",
       "890          891         0       3   \n",
       "\n",
       "                                                  Name     Sex   Age  SibSp  \\\n",
       "0                              Braund, Mr. Owen Harris    male  22.0      1   \n",
       "1    Cumings, Mrs. John Bradley (Florence Briggs Th...  female  38.0      1   \n",
       "2                               Heikkinen, Miss. Laina  female  26.0      0   \n",
       "3         Futrelle, Mrs. Jacques Heath (Lily May Peel)  female  35.0      1   \n",
       "4                             Allen, Mr. William Henry    male  35.0      0   \n",
       "..                                                 ...     ...   ...    ...   \n",
       "886                              Montvila, Rev. Juozas    male  27.0      0   \n",
       "887                       Graham, Miss. Margaret Edith  female  19.0      0   \n",
       "888           Johnston, Miss. Catherine Helen \"Carrie\"  female   NaN      1   \n",
       "889                              Behr, Mr. Karl Howell    male  26.0      0   \n",
       "890                                Dooley, Mr. Patrick    male  32.0      0   \n",
       "\n",
       "     Parch            Ticket     Fare Cabin Embarked  \n",
       "0        0         A/5 21171   7.2500   NaN        S  \n",
       "1        0          PC 17599  71.2833   C85        C  \n",
       "2        0  STON/O2. 3101282   7.9250   NaN        S  \n",
       "3        0            113803  53.1000  C123        S  \n",
       "4        0            373450   8.0500   NaN        S  \n",
       "..     ...               ...      ...   ...      ...  \n",
       "886      0            211536  13.0000   NaN        S  \n",
       "887      0            112053  30.0000   B42        S  \n",
       "888      2        W./C. 6607  23.4500   NaN        S  \n",
       "889      0            111369  30.0000  C148        C  \n",
       "890      0            370376   7.7500   NaN        Q  \n",
       "\n",
       "[891 rows x 12 columns]"
      ]
     },
     "metadata": {},
     "output_type": "display_data"
    }
   ],
   "source": [
    "titanic_df = pd.read_csv('train.csv')\n",
    "display(titanic_df)"
   ]
  },
  {
   "cell_type": "markdown",
   "metadata": {},
   "source": [
    "# Soru 1:"
   ]
  },
  {
   "cell_type": "markdown",
   "metadata": {},
   "source": [
    "Kazada ölenlerin yaş ortalamasını bulunuz"
   ]
  },
  {
   "cell_type": "code",
   "execution_count": 155,
   "metadata": {},
   "outputs": [
    {
     "name": "stdout",
     "output_type": "stream",
     "text": [
      "Kazanda olenlerin yas ortalamasi : 30.62617924528302\n"
     ]
    }
   ],
   "source": [
    "deads = titanic_df.query('Survived == 0')\n",
    "print(\"Kazanda olenlerin yas ortalamasi : \" + str(deads['Age'].mean()))"
   ]
  },
  {
   "cell_type": "markdown",
   "metadata": {},
   "source": [
    "Kazada ölenlerin bilet fiyatlarının ortalamasını ve medyanını bulunuz"
   ]
  },
  {
   "cell_type": "code",
   "execution_count": 156,
   "metadata": {},
   "outputs": [
    {
     "name": "stdout",
     "output_type": "stream",
     "text": [
      "Kazade olenlerin bilet fiyatlarinin 'medyan' degeri : 10.5\n",
      "Kazanda olenlerin bilet fiyatlarinin 'mean' degeri : 22.117886885245877\n"
     ]
    }
   ],
   "source": [
    "print(\"Kazade olenlerin bilet fiyatlarinin 'medyan' degeri : \" + str(deads['Fare'].median()))\n",
    "print(\"Kazanda olenlerin bilet fiyatlarinin 'mean' degeri : \" + str(deads['Fare'].mean()))\n"
   ]
  },
  {
   "cell_type": "markdown",
   "metadata": {},
   "source": [
    "Kazada ölen erkeklerin yaş ortalamasını bulunuz\n"
   ]
  },
  {
   "cell_type": "code",
   "execution_count": 158,
   "metadata": {},
   "outputs": [
    {
     "name": "stdout",
     "output_type": "stream",
     "text": [
      "Kazada olen erkeklerin yas ortalamasi : 31.618055555555557\n"
     ]
    }
   ],
   "source": [
    "male_deads_df = titanic_df.query(\"Sex == 'male' and Survived == 0\")\n",
    "print(\"Kazada olen erkeklerin yas ortalamasi : \" + str(male_deads_df['Age'].mean()))"
   ]
  },
  {
   "cell_type": "markdown",
   "metadata": {},
   "source": [
    "Kazada ölen Kadınların yaş ortalamasını bulunuz"
   ]
  },
  {
   "cell_type": "code",
   "execution_count": 159,
   "metadata": {},
   "outputs": [
    {
     "name": "stdout",
     "output_type": "stream",
     "text": [
      "Kazada olen kadinlarin yas ortalamasi : 25.046875\n"
     ]
    }
   ],
   "source": [
    "female_deads_df = titanic_df.query(\"Sex == 'female' and Survived == 0\")\n",
    "print(\"Kazada olen kadinlarin yas ortalamasi : \" + str(female_deads_df['Age'].mean()))"
   ]
  },
  {
   "cell_type": "markdown",
   "metadata": {},
   "source": [
    "# Soru 2:"
   ]
  },
  {
   "cell_type": "markdown",
   "metadata": {},
   "source": [
    "Kazadan kurtulanların yaş ortalamasını bulunuz"
   ]
  },
  {
   "cell_type": "code",
   "execution_count": 161,
   "metadata": {},
   "outputs": [
    {
     "name": "stdout",
     "output_type": "stream",
     "text": [
      "Kazadan kurtulanlarin yas ortalamasi : 28.343689655172415\n"
     ]
    }
   ],
   "source": [
    "survivors_df = titanic_df.query('Survived == 1') \n",
    "print(\"Kazadan kurtulanlarin yas ortalamasi : \" + str(survivors_df['Age'].mean()))"
   ]
  },
  {
   "cell_type": "markdown",
   "metadata": {},
   "source": [
    "Kazadan kurtulanların bilet fiyatlarının ortalamasını bulunuz\n"
   ]
  },
  {
   "cell_type": "code",
   "execution_count": 163,
   "metadata": {},
   "outputs": [
    {
     "name": "stdout",
     "output_type": "stream",
     "text": [
      "Kazadan kurtulanlarin bilet fiyati ortalamasi : 48.39540760233917\n"
     ]
    }
   ],
   "source": [
    "print(\"Kazadan kurtulanlarin bilet fiyati ortalamasi : \" + str(survivors_df['Fare'].mean()))"
   ]
  },
  {
   "cell_type": "markdown",
   "metadata": {},
   "source": [
    "Kazadan kurtulan toplam kişi sayısını bulunuz"
   ]
  },
  {
   "cell_type": "code",
   "execution_count": 165,
   "metadata": {},
   "outputs": [
    {
     "name": "stdout",
     "output_type": "stream",
     "text": [
      "Kazadan kurtulan toplam kisi sayisi : 342\n"
     ]
    }
   ],
   "source": [
    "print(\"Kazadan kurtulan toplam kisi sayisi : \" + str(survivors_df['Survived'].count()))"
   ]
  },
  {
   "cell_type": "markdown",
   "metadata": {},
   "source": [
    "Kazadan kurtulan erkeklerin yaş ortalamasını bulunuz"
   ]
  },
  {
   "cell_type": "code",
   "execution_count": 167,
   "metadata": {},
   "outputs": [
    {
     "name": "stdout",
     "output_type": "stream",
     "text": [
      "Kazadan kurtulan erkeklerin yas ortalamasi : 27.276021505376345\n"
     ]
    }
   ],
   "source": [
    "survivor_male_df = survivors_df.query('Sex == \"male\"')\n",
    "print(\"Kazadan kurtulan erkeklerin yas ortalamasi : \" + str(survivor_male_df['Age'].mean()))"
   ]
  },
  {
   "cell_type": "markdown",
   "metadata": {},
   "source": [
    "Kazadan kurtulan kadınların yaş ortalamasını bulunuz"
   ]
  },
  {
   "cell_type": "code",
   "execution_count": 169,
   "metadata": {},
   "outputs": [
    {
     "name": "stdout",
     "output_type": "stream",
     "text": [
      "Kazadan kurtulan kadinlarin yas ortalamasi : 28.84771573604061\n"
     ]
    }
   ],
   "source": [
    "survivor_female_df = survivors_df.query('Sex == \"female\"')\n",
    "print(\"Kazadan kurtulan kadinlarin yas ortalamasi : \" + str(survivor_female_df['Age'].mean()))"
   ]
  },
  {
   "cell_type": "markdown",
   "metadata": {},
   "source": [
    "# Soru 3: "
   ]
  },
  {
   "cell_type": "markdown",
   "metadata": {},
   "source": [
    "10 yaşından küçüklerin bilet fiyatlarının medyan değerini bulunuz"
   ]
  },
  {
   "cell_type": "code",
   "execution_count": 171,
   "metadata": {
    "scrolled": true
   },
   "outputs": [
    {
     "name": "stdout",
     "output_type": "stream",
     "text": [
      "10 yasindan kucuklerin bilet fiyatlarinin medyan degeri : 27.0\n"
     ]
    }
   ],
   "source": [
    "under10yo_df = titanic_df.query('Age <= 10')\n",
    "print(\"10 yasindan kucuklerin bilet fiyatlarinin medyan degeri : \" + str(under10yo_df['Fare'].median()))"
   ]
  },
  {
   "cell_type": "markdown",
   "metadata": {},
   "source": [
    "10 yaşından büyüklerin bilet fiyatlarının medyan değerini bulunuz"
   ]
  },
  {
   "cell_type": "code",
   "execution_count": 174,
   "metadata": {},
   "outputs": [
    {
     "name": "stdout",
     "output_type": "stream",
     "text": [
      "10 yasindan buyuklerin bilet fiyatlarinin medyan degeri : 13.92915\n"
     ]
    }
   ],
   "source": [
    "over10yo_df = titanic_df.query('Age > 10')\n",
    "print(\"10 yasindan buyuklerin bilet fiyatlarinin medyan degeri : \" + str(over10yo_df['Fare'].median()))"
   ]
  },
  {
   "cell_type": "markdown",
   "metadata": {},
   "source": [
    "# Soru 5:"
   ]
  },
  {
   "cell_type": "markdown",
   "metadata": {},
   "source": [
    "1.sınıf, 2.sınıf ve 3.sınıf yolcuların ölüm oranlarını karşılaştırınız. Bir veya bir kaç cümle ile sonucu <b>yorumlayınız.</b>\n"
   ]
  },
  {
   "cell_type": "code",
   "execution_count": 175,
   "metadata": {},
   "outputs": [
    {
     "data": {
      "image/png": "[encoded data removed]",
      "text/plain": [
       "<Figure size 480x320 with 1 Axes>"
      ]
     },
     "metadata": {
      "needs_background": "light"
     },
     "output_type": "display_data"
    },
    {
     "name": "stdout",
     "output_type": "stream",
     "text": [
      "\n",
      "Pclass 3`ten Pclass 1`e gidildikce 'hayatta kalma' oraninin yukseldigi goruyoruz. Bilet fiyatlari degiskenini bu \n",
      "denkleme dahil ederek gozlemledigimizde, Pclass 1`e ait yolcularin digerlerine gore daha varlikli bir kesimi \n",
      "olusturdugunu soyleyebiliriz. O donem var olan `varlikli kesmin` su ana gore kiyasla daha az oldugunu kabul \n",
      "edersek, bu kesim taninan is insanlari, burokratlar, aristokrat sinifin uleyerinden oldugunu soyleyebiliriz. Kaza aninda bu zumre 'oncelikli olarak' kurtarilmis ve ya kurtarilmaya calisilmis olabilir.Ote yandan gemi plani \n",
      "incelendiginde, Pclass 3 yolcularinin bulundugu kesim geminin daha altinda yer aldigini goruyoruz. Bu PClass 1`e \n",
      "dogru gidildikce daha yukari cikiyor. Bu da PClass 1`in digerlerine nazaran filikalara ulasma zamaninin daha kisa oldugunu gosterir.  Muhtemelen Pclass 3`te yer alan yolcular, gemi su almaya basladiginda yukari ulasamadan \n",
      "hayatlarini kaybettiler. Gemideki yerlesim alaninda uygulanan hiyerarsi bu olum oranlarinin bu sekilde \n",
      "dagilmasinda ciddi rol oynamis olabilir.\n",
      "\n"
     ]
    }
   ],
   "source": [
    "pclass1_dead_rate = int(len(titanic_df.query('Survived == 0 and Pclass == 1')) / (len(titanic_df.query('Pclass == 1'))/100))\n",
    "pclass2_dead_rate = int(len(titanic_df.query('Survived == 0 and Pclass == 2')) / (len(titanic_df.query('Pclass == 2'))/100))\n",
    "pclass3_dead_rate = int(len(titanic_df.query('Survived == 0 and Pclass == 3')) / (len(titanic_df.query('Pclass == 3'))/100))\n",
    "\n",
    "fig = plt.figure(dpi=80)\n",
    "ax = fig.add_subplot(1,1,1)\n",
    "\n",
    "table_data = [\n",
    "    ['Pclass 1 Dead Rate',pclass1_dead_rate],\n",
    "    ['Pclass 2 Dead Rate',pclass2_dead_rate],\n",
    "    ['Pclass 3 Dead Rate',pclass3_dead_rate],\n",
    "]\n",
    "\n",
    "table = ax.table(cellText=table_data, loc='center')\n",
    "table.scale(1,5)\n",
    "ax.axis('off')\n",
    "plt.show()\n",
    "\n",
    "print(\"\"\"\n",
    "Pclass 3`ten Pclass 1`e gidildikce 'hayatta kalma' oraninin yukseldigi goruyoruz. Bilet fiyatlari degiskenini bu \n",
    "denkleme dahil ederek gozlemledigimizde, Pclass 1`e ait yolcularin digerlerine gore daha varlikli bir kesimi \n",
    "olusturdugunu soyleyebiliriz. O donem var olan `varlikli kesmin` su ana gore kiyasla daha az oldugunu kabul \n",
    "edersek, bu kesim taninan is insanlari, burokratlar, aristokrat sinifin uleyerinden oldugunu soyleyebiliriz. Kaza aninda bu zumre 'oncelikli olarak' kurtarilmis ve ya kurtarilmaya calisilmis olabilir.Ote yandan gemi plani \n",
    "incelendiginde, Pclass 3 yolcularinin bulundugu kesim geminin daha altinda yer aldigini goruyoruz. Bu PClass 1`e \n",
    "dogru gidildikce daha yukari cikiyor. Bu da PClass 1`in digerlerine nazaran filikalara ulasma zamaninin daha kisa oldugunu gosterir.  Muhtemelen Pclass 3`te yer alan yolcular, gemi su almaya basladiginda yukari ulasamadan \n",
    "hayatlarini kaybettiler. Gemideki yerlesim alaninda uygulanan hiyerarsi bu olum oranlarinin bu sekilde \n",
    "dagilmasinda ciddi rol oynamis olabilir.\n",
    "\"\"\")"
   ]
  },
  {
   "cell_type": "markdown",
   "metadata": {},
   "source": [
    "1.sınıf, 2.sınıf ve 3.sınıf bilet fiyatlarını karşılaştırınız"
   ]
  },
  {
   "cell_type": "code",
   "execution_count": 235,
   "metadata": {},
   "outputs": [
    {
     "data": {
      "image/png": "[encoded data removed]",
      "text/plain": [
       "<Figure size 720x432 with 1 Axes>"
      ]
     },
     "metadata": {
      "needs_background": "light"
     },
     "output_type": "display_data"
    },
    {
     "data": {
      "text/html": [
       "<div>\n",
       "<style scoped>\n",
       "    .dataframe tbody tr th:only-of-type {\n",
       "        vertical-align: middle;\n",
       "    }\n",
       "\n",
       "    .dataframe tbody tr th {\n",
       "        vertical-align: top;\n",
       "    }\n",
       "\n",
       "    .dataframe thead th {\n",
       "        text-align: right;\n",
       "    }\n",
       "</style>\n",
       "<table border=\"1\" class=\"dataframe\">\n",
       "  <thead>\n",
       "    <tr style=\"text-align: right;\">\n",
       "      <th></th>\n",
       "      <th>Fare Median</th>\n",
       "      <th>Fare Mean</th>\n",
       "    </tr>\n",
       "    <tr>\n",
       "      <th>Pclass</th>\n",
       "      <th></th>\n",
       "      <th></th>\n",
       "    </tr>\n",
       "  </thead>\n",
       "  <tbody>\n",
       "    <tr>\n",
       "      <th>1</th>\n",
       "      <td>60.2875</td>\n",
       "      <td>84.154687</td>\n",
       "    </tr>\n",
       "    <tr>\n",
       "      <th>2</th>\n",
       "      <td>14.2500</td>\n",
       "      <td>20.662183</td>\n",
       "    </tr>\n",
       "    <tr>\n",
       "      <th>3</th>\n",
       "      <td>8.0500</td>\n",
       "      <td>13.675550</td>\n",
       "    </tr>\n",
       "  </tbody>\n",
       "</table>\n",
       "</div>"
      ],
      "text/plain": [
       "        Fare Median  Fare Mean\n",
       "Pclass                        \n",
       "1           60.2875  84.154687\n",
       "2           14.2500  20.662183\n",
       "3            8.0500  13.675550"
      ]
     },
     "metadata": {},
     "output_type": "display_data"
    }
   ],
   "source": [
    "pclass1 = titanic_df.query('Pclass == 1')\n",
    "pclass2 = titanic_df.query('Pclass == 2')\n",
    "pclass3 = titanic_df.query('Pclass == 3')\n",
    "\n",
    "pclass1_fare_median = pclass1['Fare'].median()\n",
    "pclass1_fare_mean = pclass1['Fare'].mean()\n",
    "pclass2_fare_median = pclass2['Fare'].median()\n",
    "pclass2_fare_mean = pclass2['Fare'].mean()\n",
    "pclass3_fare_median = pclass3['Fare'].median()\n",
    "pclass3_fare_mean = pclass3['Fare'].mean()\n",
    "\n",
    "fare_mean = [pclass1_fare_mean,pclass2_fare_mean,pclass3_fare_mean]\n",
    "fare_median = [pclass1_fare_median,pclass2_fare_median,pclass3_fare_median]\n",
    "\n",
    "pclassdf = pd.DataFrame({\n",
    "    'Pclass':[1,2,3],\n",
    "    'Fare Median':fare_median,\n",
    "    'Fare Mean':fare_mean\n",
    "})\n",
    "\n",
    "pclassdf.set_index('Pclass',inplace = True)\n",
    "\n",
    "pclassdf[[\"Fare Mean\",\"Fare Median\"]].plot.bar()\n",
    "plt.show()\n",
    "display(pclassdf)\n",
    "\n",
    "\n"
   ]
  },
  {
   "cell_type": "markdown",
   "metadata": {},
   "source": [
    "# Soru 6:"
   ]
  },
  {
   "cell_type": "markdown",
   "metadata": {},
   "source": [
    "Kazada ölen kadınların oranı ile erkeklerin oranını karşılaştırınız. Bir veya bir kaç cümle ile sonucu <b>yorumlayınız.</b>"
   ]
  },
  {
   "cell_type": "code",
   "execution_count": 236,
   "metadata": {},
   "outputs": [
    {
     "data": {
      "image/png": "[encoded data removed]",
      "text/plain": [
       "<Figure size 800x480 with 1 Axes>"
      ]
     },
     "metadata": {
      "needs_background": "light"
     },
     "output_type": "display_data"
    },
    {
     "name": "stdout",
     "output_type": "stream",
     "text": [
      "\n",
      "Olum oraninin cinsiyet dagilimini inceledigimiz zaman 'kadin' ve 'erkek' arasinda buyuk bir fark gozlemliyoruz.\n",
      "Bunun sebebi olarak sunu soyleyebiliriz; Genel olarak acil durum planlarinda oncelikli olarak kurtarilacak grup\n",
      "Cocuklar/Yaslilar ve Kadinlar olarak belirtiliyor. Bunun sebeplerini tam olarak soylemeyebilirim ama genel gecer\n",
      "olarak bu sekilde. Bu gozlemi disarida birakarak sadece veri seti uzerinde yaptigimiz analiz sonuclarina gore\n",
      "konusursak; acil durum aninda `Erkek`lerin `Kadin`lara oranla daha fazla sorumluluk aldigini soyleyebiliriz.\n",
      "Filikalar binip kurtulmak yerine acil durum plani uzerinde bir inisiyatif alarak organizasyonu yonettigi ve\n",
      "diger insanlara yardimci oldugu sonucunu cikarabiliriz. Ayni zamanda yolcu listesinde cok fazla aile oldugunu\n",
      "da gorebiliyoruz. Aile uyeleri arasinda dagitilan rollere gore `baba figuru`nun ailesini kurtarmaya calismis\n",
      "olabilecegini de dusunebiliriz.\n",
      "\n",
      "\n"
     ]
    }
   ],
   "source": [
    "male_dead_rate = int(len(titanic_df.query('Survived == 0 and Sex == \"male\"')) / (len(titanic_df.query('Sex == \"male\"'))/100))\n",
    "female_dead_rate = int(len(titanic_df.query('Survived == 0 and Sex == \"female\"')) / (len(titanic_df.query('Sex == \"female\"'))/100))\n",
    "\n",
    "fig = plt.figure(dpi=80)\n",
    "ax = fig.add_subplot(1,1,1)\n",
    "\n",
    "table_data = [\n",
    "    ['Male`s Dead Rate',male_dead_rate],\n",
    "    ['Female`s Dead Rate',female_dead_rate]\n",
    "]\n",
    "\n",
    "table = ax.table(cellText=table_data, loc='center')\n",
    "table.scale(1,5)\n",
    "ax.axis('off')\n",
    "plt.show()\n",
    "print(\"\"\"\n",
    "Olum oraninin cinsiyet dagilimini inceledigimiz zaman 'kadin' ve 'erkek' arasinda buyuk bir fark gozlemliyoruz.\n",
    "Bunun sebebi olarak sunu soyleyebiliriz; Genel olarak acil durum planlarinda oncelikli olarak kurtarilacak grup\n",
    "Cocuklar/Yaslilar ve Kadinlar olarak belirtiliyor. Bunun sebeplerini tam olarak soylemeyebilirim ama genel gecer\n",
    "olarak bu sekilde. Bu gozlemi disarida birakarak sadece veri seti uzerinde yaptigimiz analiz sonuclarina gore\n",
    "konusursak; acil durum aninda `Erkek`lerin `Kadin`lara oranla daha fazla sorumluluk aldigini soyleyebiliriz.\n",
    "Filikalar binip kurtulmak yerine acil durum plani uzerinde bir inisiyatif alarak organizasyonu yonettigi ve\n",
    "diger insanlara yardimci oldugu sonucunu cikarabiliriz. Ayni zamanda yolcu listesinde cok fazla aile oldugunu\n",
    "da gorebiliyoruz. Aile uyeleri arasinda dagitilan rollere gore `baba figuru`nun ailesini kurtarmaya calismis\n",
    "olabilecegini de dusunebiliriz.\n",
    "\n",
    "\"\"\")"
   ]
  },
  {
   "cell_type": "markdown",
   "metadata": {},
   "source": [
    "# Soru 7:"
   ]
  },
  {
   "cell_type": "markdown",
   "metadata": {},
   "source": [
    "Kazada ölen erkeklerin ortalama bilet fiyatı ile kurtulan erkeklerin ortalama bilet fiyatını karşılaştırınız. Bir veya bir kaç cümle ile sonucu <b>yorumlayınız.</b>"
   ]
  },
  {
   "cell_type": "code",
   "execution_count": 237,
   "metadata": {},
   "outputs": [
    {
     "data": {
      "image/png": "[encoded data removed]",
      "text/plain": [
       "<Figure size 800x480 with 1 Axes>"
      ]
     },
     "metadata": {
      "needs_background": "light"
     },
     "output_type": "display_data"
    },
    {
     "name": "stdout",
     "output_type": "stream",
     "text": [
      "\n",
      "Bu ortalamalara bakarak; bu dagilim Pclass verileriyle ortustugunu soyleyebiliriz. Daha once yapilan analizde,\n",
      "ucreti daha yuksek olan Pclass 1`in digerlerine oranla daha yuksek oranda hayatta kaldigini gormustuk. Benzer \n",
      "sebepleri burada da soyleyebiliriz. Pclass 3`ten Pclass`1 dogru gidildikce ortalama bilet fiyati artiyor ve ayni\n",
      "zamanda Pclass 3`ten Pclass 1`e dogru gidildikce hayatta kalma orani da artiyor. Bu sebeple hayatta kalan \n",
      "erkeklerin bilet fiyatinin olen erkeklere gore daha yuksek oldugu acikca soylenebilir.\n",
      "\n",
      "\n"
     ]
    }
   ],
   "source": [
    "survivor_males = titanic_df.query('Survived == 1 and Sex == \"male\"')\n",
    "dead_males = titanic_df.query('Survived == 0 and Sex == \"male\"')\n",
    "\n",
    "fig = plt.figure(dpi=80)\n",
    "ax = fig.add_subplot(1,1,1)\n",
    "\n",
    "table_data = [\n",
    "    ['Mean Fare of Survivor Males',survivor_males[\"Fare\"].mean()],\n",
    "    ['Mean Fare of Dead Males',dead_males[\"Fare\"].mean()]\n",
    "]\n",
    "\n",
    "table = ax.table(cellText=table_data, loc='center')\n",
    "table.scale(1,5)\n",
    "ax.axis('off')\n",
    "plt.show()\n",
    "\n",
    "# bu alana python kodunu yazıp çıktısı görülecek şekilde çalıştırınız\n",
    "print(\"\"\"\n",
    "Bu ortalamalara bakarak; bu dagilim Pclass verileriyle ortustugunu soyleyebiliriz. Daha once yapilan analizde,\n",
    "ucreti daha yuksek olan Pclass 1`in digerlerine oranla daha yuksek oranda hayatta kaldigini gormustuk. Benzer \n",
    "sebepleri burada da soyleyebiliriz. Pclass 3`ten Pclass`1 dogru gidildikce ortalama bilet fiyati artiyor ve ayni\n",
    "zamanda Pclass 3`ten Pclass 1`e dogru gidildikce hayatta kalma orani da artiyor. Bu sebeple hayatta kalan \n",
    "erkeklerin bilet fiyatinin olen erkeklere gore daha yuksek oldugu acikca soylenebilir.\n",
    "\n",
    "\"\"\")"
   ]
  },
  {
   "cell_type": "markdown",
   "metadata": {},
   "source": [
    "# Missing Value Doldurma"
   ]
  },
  {
   "cell_type": "markdown",
   "metadata": {},
   "source": [
    "Bundan sonraki soruları <b>train_missing.csv</b> datasını kullanarak cevaplayınız."
   ]
  },
  {
   "cell_type": "code",
   "execution_count": 238,
   "metadata": {},
   "outputs": [],
   "source": [
    "titanic_df_missing = pd.read_csv('train_missing.csv')"
   ]
  },
  {
   "cell_type": "markdown",
   "metadata": {},
   "source": [
    "# Soru 8"
   ]
  },
  {
   "cell_type": "markdown",
   "metadata": {},
   "source": [
    "Age, Embarked ve Fare değişkenlerini mean/median/mode değerlerini kullanarak değişken tipine uygun olacak şekilde doldurunuz."
   ]
  },
  {
   "cell_type": "raw",
   "metadata": {},
   "source": [
    "'Age' sutunu Numeric-Cardinal tipinde oldugunu dusunuyorum.Bu sutunda yer alan eksiklikleri 'mean' metodu kullanarak doldurmayi tercih ettim.'Fare' sutunu bence Numerical-Continuous(Ratio) veri tipinde. Dataseti cok dusuk ve cok yuksek degerler icerebilecegi icin dagilimi\n",
    "bozmamak acisindan 'Fare' sutununu 'median' metodu kullarak doldurdum.'Embarked' sutunun veri tipini Categorical-\n",
    "Nominal olarak dusundum. Bu sutun yolcular arasinda bir siniflandirma yaratiyor. Kategorik bir deger oldugu icin\n",
    "de 'mode' metodu kullanarak doldurdum."
   ]
  },
  {
   "cell_type": "code",
   "execution_count": 239,
   "metadata": {},
   "outputs": [
    {
     "data": {
      "text/html": [
       "<div>\n",
       "<style scoped>\n",
       "    .dataframe tbody tr th:only-of-type {\n",
       "        vertical-align: middle;\n",
       "    }\n",
       "\n",
       "    .dataframe tbody tr th {\n",
       "        vertical-align: top;\n",
       "    }\n",
       "\n",
       "    .dataframe thead th {\n",
       "        text-align: right;\n",
       "    }\n",
       "</style>\n",
       "<table border=\"1\" class=\"dataframe\">\n",
       "  <thead>\n",
       "    <tr style=\"text-align: right;\">\n",
       "      <th></th>\n",
       "      <th>PassengerId</th>\n",
       "      <th>Survived</th>\n",
       "      <th>Pclass</th>\n",
       "      <th>Name</th>\n",
       "      <th>Sex</th>\n",
       "      <th>Age</th>\n",
       "      <th>SibSp</th>\n",
       "      <th>Parch</th>\n",
       "      <th>Ticket</th>\n",
       "      <th>Fare</th>\n",
       "      <th>Cabin</th>\n",
       "      <th>Embarked</th>\n",
       "    </tr>\n",
       "  </thead>\n",
       "  <tbody>\n",
       "    <tr>\n",
       "      <th>0</th>\n",
       "      <td>1</td>\n",
       "      <td>0</td>\n",
       "      <td>3</td>\n",
       "      <td>Braund, Mr. Owen Harris</td>\n",
       "      <td>male</td>\n",
       "      <td>22.0</td>\n",
       "      <td>1.0</td>\n",
       "      <td>0</td>\n",
       "      <td>A/5 21171</td>\n",
       "      <td>7.2500</td>\n",
       "      <td>NaN</td>\n",
       "      <td>S</td>\n",
       "    </tr>\n",
       "    <tr>\n",
       "      <th>1</th>\n",
       "      <td>2</td>\n",
       "      <td>1</td>\n",
       "      <td>1</td>\n",
       "      <td>Cumings, Mrs. John Bradley (Florence Briggs Th...</td>\n",
       "      <td>female</td>\n",
       "      <td>38.0</td>\n",
       "      <td>1.0</td>\n",
       "      <td>0</td>\n",
       "      <td>PC 17599</td>\n",
       "      <td>71.2833</td>\n",
       "      <td>C85</td>\n",
       "      <td>C</td>\n",
       "    </tr>\n",
       "    <tr>\n",
       "      <th>2</th>\n",
       "      <td>3</td>\n",
       "      <td>1</td>\n",
       "      <td>3</td>\n",
       "      <td>Heikkinen, Miss. Laina</td>\n",
       "      <td>female</td>\n",
       "      <td>26.0</td>\n",
       "      <td>0.0</td>\n",
       "      <td>0</td>\n",
       "      <td>STON/O2. 3101282</td>\n",
       "      <td>7.9250</td>\n",
       "      <td>NaN</td>\n",
       "      <td>NaN</td>\n",
       "    </tr>\n",
       "    <tr>\n",
       "      <th>3</th>\n",
       "      <td>4</td>\n",
       "      <td>1</td>\n",
       "      <td>1</td>\n",
       "      <td>Futrelle, Mrs. Jacques Heath (Lily May Peel)</td>\n",
       "      <td>female</td>\n",
       "      <td>35.0</td>\n",
       "      <td>1.0</td>\n",
       "      <td>0</td>\n",
       "      <td>113803</td>\n",
       "      <td>53.1000</td>\n",
       "      <td>C123</td>\n",
       "      <td>S</td>\n",
       "    </tr>\n",
       "    <tr>\n",
       "      <th>4</th>\n",
       "      <td>5</td>\n",
       "      <td>0</td>\n",
       "      <td>3</td>\n",
       "      <td>Allen, Mr. William Henry</td>\n",
       "      <td>male</td>\n",
       "      <td>35.0</td>\n",
       "      <td>0.0</td>\n",
       "      <td>0</td>\n",
       "      <td>373450</td>\n",
       "      <td>8.0500</td>\n",
       "      <td>NaN</td>\n",
       "      <td>NaN</td>\n",
       "    </tr>\n",
       "    <tr>\n",
       "      <th>...</th>\n",
       "      <td>...</td>\n",
       "      <td>...</td>\n",
       "      <td>...</td>\n",
       "      <td>...</td>\n",
       "      <td>...</td>\n",
       "      <td>...</td>\n",
       "      <td>...</td>\n",
       "      <td>...</td>\n",
       "      <td>...</td>\n",
       "      <td>...</td>\n",
       "      <td>...</td>\n",
       "      <td>...</td>\n",
       "    </tr>\n",
       "    <tr>\n",
       "      <th>886</th>\n",
       "      <td>887</td>\n",
       "      <td>0</td>\n",
       "      <td>2</td>\n",
       "      <td>Montvila, Rev. Juozas</td>\n",
       "      <td>male</td>\n",
       "      <td>27.0</td>\n",
       "      <td>0.0</td>\n",
       "      <td>0</td>\n",
       "      <td>211536</td>\n",
       "      <td>13.0000</td>\n",
       "      <td>NaN</td>\n",
       "      <td>S</td>\n",
       "    </tr>\n",
       "    <tr>\n",
       "      <th>887</th>\n",
       "      <td>888</td>\n",
       "      <td>1</td>\n",
       "      <td>1</td>\n",
       "      <td>Graham, Miss. Margaret Edith</td>\n",
       "      <td>female</td>\n",
       "      <td>19.0</td>\n",
       "      <td>0.0</td>\n",
       "      <td>0</td>\n",
       "      <td>112053</td>\n",
       "      <td>30.0000</td>\n",
       "      <td>B42</td>\n",
       "      <td>S</td>\n",
       "    </tr>\n",
       "    <tr>\n",
       "      <th>888</th>\n",
       "      <td>889</td>\n",
       "      <td>0</td>\n",
       "      <td>3</td>\n",
       "      <td>Johnston, Miss. Catherine Helen \"Carrie\"</td>\n",
       "      <td>female</td>\n",
       "      <td>NaN</td>\n",
       "      <td>1.0</td>\n",
       "      <td>2</td>\n",
       "      <td>W./C. 6607</td>\n",
       "      <td>NaN</td>\n",
       "      <td>NaN</td>\n",
       "      <td>S</td>\n",
       "    </tr>\n",
       "    <tr>\n",
       "      <th>889</th>\n",
       "      <td>890</td>\n",
       "      <td>1</td>\n",
       "      <td>1</td>\n",
       "      <td>Behr, Mr. Karl Howell</td>\n",
       "      <td>male</td>\n",
       "      <td>26.0</td>\n",
       "      <td>0.0</td>\n",
       "      <td>0</td>\n",
       "      <td>111369</td>\n",
       "      <td>30.0000</td>\n",
       "      <td>C148</td>\n",
       "      <td>NaN</td>\n",
       "    </tr>\n",
       "    <tr>\n",
       "      <th>890</th>\n",
       "      <td>891</td>\n",
       "      <td>0</td>\n",
       "      <td>3</td>\n",
       "      <td>Dooley, Mr. Patrick</td>\n",
       "      <td>male</td>\n",
       "      <td>32.0</td>\n",
       "      <td>0.0</td>\n",
       "      <td>0</td>\n",
       "      <td>370376</td>\n",
       "      <td>7.7500</td>\n",
       "      <td>NaN</td>\n",
       "      <td>Q</td>\n",
       "    </tr>\n",
       "  </tbody>\n",
       "</table>\n",
       "<p>891 rows × 12 columns</p>\n",
       "</div>"
      ],
      "text/plain": [
       "     PassengerId  Survived  Pclass  \\\n",
       "0              1         0       3   \n",
       "1              2         1       1   \n",
       "2              3         1       3   \n",
       "3              4         1       1   \n",
       "4              5         0       3   \n",
       "..           ...       ...     ...   \n",
       "886          887         0       2   \n",
       "887          888         1       1   \n",
       "888          889         0       3   \n",
       "889          890         1       1   \n",
       "890          891         0       3   \n",
       "\n",
       "                                                  Name     Sex   Age  SibSp  \\\n",
       "0                              Braund, Mr. Owen Harris    male  22.0    1.0   \n",
       "1    Cumings, Mrs. John Bradley (Florence Briggs Th...  female  38.0    1.0   \n",
       "2                               Heikkinen, Miss. Laina  female  26.0    0.0   \n",
       "3         Futrelle, Mrs. Jacques Heath (Lily May Peel)  female  35.0    1.0   \n",
       "4                             Allen, Mr. William Henry    male  35.0    0.0   \n",
       "..                                                 ...     ...   ...    ...   \n",
       "886                              Montvila, Rev. Juozas    male  27.0    0.0   \n",
       "887                       Graham, Miss. Margaret Edith  female  19.0    0.0   \n",
       "888           Johnston, Miss. Catherine Helen \"Carrie\"  female   NaN    1.0   \n",
       "889                              Behr, Mr. Karl Howell    male  26.0    0.0   \n",
       "890                                Dooley, Mr. Patrick    male  32.0    0.0   \n",
       "\n",
       "     Parch            Ticket     Fare Cabin Embarked  \n",
       "0        0         A/5 21171   7.2500   NaN        S  \n",
       "1        0          PC 17599  71.2833   C85        C  \n",
       "2        0  STON/O2. 3101282   7.9250   NaN      NaN  \n",
       "3        0            113803  53.1000  C123        S  \n",
       "4        0            373450   8.0500   NaN      NaN  \n",
       "..     ...               ...      ...   ...      ...  \n",
       "886      0            211536  13.0000   NaN        S  \n",
       "887      0            112053  30.0000   B42        S  \n",
       "888      2        W./C. 6607      NaN   NaN        S  \n",
       "889      0            111369  30.0000  C148      NaN  \n",
       "890      0            370376   7.7500   NaN        Q  \n",
       "\n",
       "[891 rows x 12 columns]"
      ]
     },
     "execution_count": 239,
     "metadata": {},
     "output_type": "execute_result"
    }
   ],
   "source": [
    "titanic_df_missing.fillna(int(titanic_df_missing['Age'].mean()))\n",
    "titanic_df_missing.fillna(titanic_df_missing['Fare'].median())\n",
    "titanic_df_missing.fillna(titanic_df_missing['Embarked'].mode())"
   ]
  },
  {
   "cell_type": "markdown",
   "metadata": {},
   "source": [
    "# Soru 9"
   ]
  },
  {
   "cell_type": "markdown",
   "metadata": {},
   "source": [
    "SibSp değişkeni hangi yöntemler ile doldurulabilir, fikir yürütün. Uygun bir yöntem ile doldurun. (SibSp değişkeni kişilerin gemide bulunan kardeş/eş sayısını belirtiyor.)"
   ]
  },
  {
   "cell_type": "code",
   "execution_count": 240,
   "metadata": {},
   "outputs": [
    {
     "name": "stdout",
     "output_type": "stream",
     "text": [
      "\n",
      "SipSb degiskenin doldurmanin en uygun yolunu KNN algoritmasi kullanmak oldugunu dusunuyorum. KNN algoritmasini beslemek icin once aileleri bulmanin dogru olacagini dusunuyorum. Bunun icin 'Name' sutunu uzerinde str.split() metodu kullanip aldigim sonuclar ile 'Surname' isimle yeni bir sutun olusturmanin aileleri saptamada iyi sonuc verecegini dusnuyorum. Tabloyu 'Surname' degiskenine gore siralamanin KNN algoritmasinin yapacagi tahminde baska aileleri degil dogrudan tahmin yapacagi kisinin ailesini dikkate almasini saglayabiliriz. Buna ek kosul olarak kisiler arasi yas farkinin 18'den buyuk olup olmama durumunu vererek, es/kardes yerine cocuk/ebeveny veya tam tersi durum olarak algilamasini saglayabiliriz. Bu da SibSp degiskenine tahmin yaparken ayni aile icinde ebeveny/cocuk olma durumunu saptayip bu sekilde tahmin yapmasini saglayabiliriz. Yapilabilirligini bilmememle beraber,bir satirda eger 'Surname' degerinin en yakin komsusu, kendi 'Surname' degeri ile ayni degilse bu satirda olusabilecek SibSp degerini dogrudan 0 olarak algilanmasi saglanabilir. Adimlari listeli olarak aciklamam gerekirse:\n",
      "1 - 'Name' degiskeni uzerinde str.split(', ') metodu kullanarak 'Surname' ve 'Name' olarak iki deger uretilebilir.\n",
      "2 - 'Surname' olarak elde edilen degerler tabloda yeni bir 'Surname' degiskeni uzerinde tutulabilir.\n",
      "3 - SibSp tahmini icin gerekli oldugunu dusundugum 'Surname' ve 'Age' degiskenleri olacak sekilde tablo filtrelebilir.\n",
      "4 - Filtrelenmis tabloda 'Surname' degerleri int degerler olarak cevirilebilir.\n",
      "3 - Tablo 'Surname' degerlerine gore .sort edilebilir.\n",
      "4 - Algoritmaya en yakin komsusuna bakarken ayni zamanda 'Surname' degerinin de ayni olup olmamasi kurali eklenebilir.\n",
      "5 - Algoritmaya iki deger arasi yas farki eger 18'den buyuk ise bunu SibSp tahmini icin kullanmamasi soylenebilir.\n",
      "\n"
     ]
    }
   ],
   "source": [
    "print(\"\"\"\n",
    "SipSb degiskenin doldurmanin en uygun yolunu KNN algoritmasi kullanmak oldugunu dusunuyorum. KNN algoritmasini beslemek icin once aileleri bulmanin dogru olacagini dusunuyorum. Bunun icin 'Name' sutunu uzerinde str.split() metodu kullanip aldigim sonuclar ile 'Surname' isimle yeni bir sutun olusturmanin aileleri saptamada iyi sonuc verecegini dusnuyorum. Tabloyu 'Surname' degiskenine gore siralamanin KNN algoritmasinin yapacagi tahminde baska aileleri degil dogrudan tahmin yapacagi kisinin ailesini dikkate almasini saglayabiliriz. Buna ek kosul olarak kisiler arasi yas farkinin 18'den buyuk olup olmama durumunu vererek, es/kardes yerine cocuk/ebeveny veya tam tersi durum olarak algilamasini saglayabiliriz. Bu da SibSp degiskenine tahmin yaparken ayni aile icinde ebeveny/cocuk olma durumunu saptayip bu sekilde tahmin yapmasini saglayabiliriz. Yapilabilirligini bilmememle beraber,bir satirda eger 'Surname' degerinin en yakin komsusu, kendi 'Surname' degeri ile ayni degilse bu satirda olusabilecek SibSp degerini dogrudan 0 olarak algilanmasi saglanabilir. Adimlari listeli olarak aciklamam gerekirse:\n",
    "1 - 'Name' degiskeni uzerinde str.split(', ') metodu kullanarak 'Surname' ve 'Name' olarak iki deger uretilebilir.\n",
    "2 - 'Surname' olarak elde edilen degerler tabloda yeni bir 'Surname' degiskeni uzerinde tutulabilir.\n",
    "3 - SibSp tahmini icin gerekli oldugunu dusundugum 'Surname' ve 'Age' degiskenleri olacak sekilde tablo filtrelebilir.\n",
    "4 - Filtrelenmis tabloda 'Surname' degerleri int degerler olarak cevirilebilir.\n",
    "3 - Tablo 'Surname' degerlerine gore .sort edilebilir.\n",
    "4 - Algoritmaya en yakin komsusuna bakarken ayni zamanda 'Surname' degerinin de ayni olup olmamasi kurali eklenebilir.\n",
    "5 - Algoritmaya iki deger arasi yas farki eger 18'den buyuk ise bunu SibSp tahmini icin kullanmamasi soylenebilir.\n",
    "\"\"\")\n"
   ]
  },
  {
   "cell_type": "code",
   "execution_count": 241,
   "metadata": {
    "scrolled": false
   },
   "outputs": [
    {
     "data": {
      "text/html": [
       "<div>\n",
       "<style scoped>\n",
       "    .dataframe tbody tr th:only-of-type {\n",
       "        vertical-align: middle;\n",
       "    }\n",
       "\n",
       "    .dataframe tbody tr th {\n",
       "        vertical-align: top;\n",
       "    }\n",
       "\n",
       "    .dataframe thead th {\n",
       "        text-align: right;\n",
       "    }\n",
       "</style>\n",
       "<table border=\"1\" class=\"dataframe\">\n",
       "  <thead>\n",
       "    <tr style=\"text-align: right;\">\n",
       "      <th></th>\n",
       "      <th>PassengerId</th>\n",
       "      <th>Survived</th>\n",
       "      <th>Pclass</th>\n",
       "      <th>Name</th>\n",
       "      <th>Surname</th>\n",
       "      <th>Sex</th>\n",
       "      <th>Age</th>\n",
       "      <th>SibSp</th>\n",
       "      <th>Parch</th>\n",
       "      <th>Ticket</th>\n",
       "      <th>Fare</th>\n",
       "      <th>Cabin</th>\n",
       "      <th>Embarked</th>\n",
       "    </tr>\n",
       "  </thead>\n",
       "  <tbody>\n",
       "    <tr>\n",
       "      <th>845</th>\n",
       "      <td>846</td>\n",
       "      <td>0</td>\n",
       "      <td>3</td>\n",
       "      <td>Mr. Anthony</td>\n",
       "      <td>Abbing</td>\n",
       "      <td>male</td>\n",
       "      <td>42.0</td>\n",
       "      <td>0.0</td>\n",
       "      <td>0</td>\n",
       "      <td>C.A. 5547</td>\n",
       "      <td>7.5500</td>\n",
       "      <td>NaN</td>\n",
       "      <td>S</td>\n",
       "    </tr>\n",
       "    <tr>\n",
       "      <th>279</th>\n",
       "      <td>280</td>\n",
       "      <td>1</td>\n",
       "      <td>3</td>\n",
       "      <td>Mrs. Stanton (Rosa Hunt)</td>\n",
       "      <td>Abbott</td>\n",
       "      <td>female</td>\n",
       "      <td>35.0</td>\n",
       "      <td>1.0</td>\n",
       "      <td>1</td>\n",
       "      <td>C.A. 2673</td>\n",
       "      <td>20.2500</td>\n",
       "      <td>NaN</td>\n",
       "      <td>S</td>\n",
       "    </tr>\n",
       "    <tr>\n",
       "      <th>746</th>\n",
       "      <td>747</td>\n",
       "      <td>0</td>\n",
       "      <td>3</td>\n",
       "      <td>Mr. Rossmore Edward</td>\n",
       "      <td>Abbott</td>\n",
       "      <td>male</td>\n",
       "      <td>16.0</td>\n",
       "      <td>1.0</td>\n",
       "      <td>1</td>\n",
       "      <td>C.A. 2673</td>\n",
       "      <td>20.2500</td>\n",
       "      <td>NaN</td>\n",
       "      <td>S</td>\n",
       "    </tr>\n",
       "    <tr>\n",
       "      <th>874</th>\n",
       "      <td>875</td>\n",
       "      <td>1</td>\n",
       "      <td>2</td>\n",
       "      <td>Mrs. Samuel (Hannah Wizosky)</td>\n",
       "      <td>Abelson</td>\n",
       "      <td>female</td>\n",
       "      <td>28.0</td>\n",
       "      <td>1.0</td>\n",
       "      <td>0</td>\n",
       "      <td>P/PP 3381</td>\n",
       "      <td>24.0000</td>\n",
       "      <td>NaN</td>\n",
       "      <td>C</td>\n",
       "    </tr>\n",
       "    <tr>\n",
       "      <th>308</th>\n",
       "      <td>309</td>\n",
       "      <td>0</td>\n",
       "      <td>2</td>\n",
       "      <td>Mr. Samuel</td>\n",
       "      <td>Abelson</td>\n",
       "      <td>male</td>\n",
       "      <td>30.0</td>\n",
       "      <td>1.0</td>\n",
       "      <td>0</td>\n",
       "      <td>P/PP 3381</td>\n",
       "      <td>NaN</td>\n",
       "      <td>NaN</td>\n",
       "      <td>C</td>\n",
       "    </tr>\n",
       "    <tr>\n",
       "      <th>...</th>\n",
       "      <td>...</td>\n",
       "      <td>...</td>\n",
       "      <td>...</td>\n",
       "      <td>...</td>\n",
       "      <td>...</td>\n",
       "      <td>...</td>\n",
       "      <td>...</td>\n",
       "      <td>...</td>\n",
       "      <td>...</td>\n",
       "      <td>...</td>\n",
       "      <td>...</td>\n",
       "      <td>...</td>\n",
       "      <td>...</td>\n",
       "    </tr>\n",
       "    <tr>\n",
       "      <th>286</th>\n",
       "      <td>287</td>\n",
       "      <td>1</td>\n",
       "      <td>3</td>\n",
       "      <td>Mr. Theodore</td>\n",
       "      <td>de Mulder</td>\n",
       "      <td>male</td>\n",
       "      <td>30.0</td>\n",
       "      <td>0.0</td>\n",
       "      <td>0</td>\n",
       "      <td>345774</td>\n",
       "      <td>9.5000</td>\n",
       "      <td>NaN</td>\n",
       "      <td>S</td>\n",
       "    </tr>\n",
       "    <tr>\n",
       "      <th>282</th>\n",
       "      <td>283</td>\n",
       "      <td>0</td>\n",
       "      <td>3</td>\n",
       "      <td>Mr. Alfons</td>\n",
       "      <td>de Pelsmaeker</td>\n",
       "      <td>male</td>\n",
       "      <td>16.0</td>\n",
       "      <td>0.0</td>\n",
       "      <td>0</td>\n",
       "      <td>345778</td>\n",
       "      <td>9.5000</td>\n",
       "      <td>NaN</td>\n",
       "      <td>NaN</td>\n",
       "    </tr>\n",
       "    <tr>\n",
       "      <th>361</th>\n",
       "      <td>362</td>\n",
       "      <td>0</td>\n",
       "      <td>2</td>\n",
       "      <td>Mr. Sebastiano</td>\n",
       "      <td>del Carlo</td>\n",
       "      <td>male</td>\n",
       "      <td>29.0</td>\n",
       "      <td>1.0</td>\n",
       "      <td>0</td>\n",
       "      <td>SC/PARIS 2167</td>\n",
       "      <td>27.7208</td>\n",
       "      <td>NaN</td>\n",
       "      <td>C</td>\n",
       "    </tr>\n",
       "    <tr>\n",
       "      <th>153</th>\n",
       "      <td>154</td>\n",
       "      <td>0</td>\n",
       "      <td>3</td>\n",
       "      <td>Mr. Austin Blyler</td>\n",
       "      <td>van Billiard</td>\n",
       "      <td>male</td>\n",
       "      <td>40.5</td>\n",
       "      <td>NaN</td>\n",
       "      <td>2</td>\n",
       "      <td>A/5. 851</td>\n",
       "      <td>14.5000</td>\n",
       "      <td>NaN</td>\n",
       "      <td>NaN</td>\n",
       "    </tr>\n",
       "    <tr>\n",
       "      <th>868</th>\n",
       "      <td>869</td>\n",
       "      <td>0</td>\n",
       "      <td>3</td>\n",
       "      <td>Mr. Philemon</td>\n",
       "      <td>van Melkebeke</td>\n",
       "      <td>male</td>\n",
       "      <td>NaN</td>\n",
       "      <td>0.0</td>\n",
       "      <td>0</td>\n",
       "      <td>345777</td>\n",
       "      <td>9.5000</td>\n",
       "      <td>NaN</td>\n",
       "      <td>NaN</td>\n",
       "    </tr>\n",
       "  </tbody>\n",
       "</table>\n",
       "<p>891 rows × 13 columns</p>\n",
       "</div>"
      ],
      "text/plain": [
       "     PassengerId  Survived  Pclass                          Name  \\\n",
       "845          846         0       3                   Mr. Anthony   \n",
       "279          280         1       3      Mrs. Stanton (Rosa Hunt)   \n",
       "746          747         0       3           Mr. Rossmore Edward   \n",
       "874          875         1       2  Mrs. Samuel (Hannah Wizosky)   \n",
       "308          309         0       2                    Mr. Samuel   \n",
       "..           ...       ...     ...                           ...   \n",
       "286          287         1       3                  Mr. Theodore   \n",
       "282          283         0       3                    Mr. Alfons   \n",
       "361          362         0       2                Mr. Sebastiano   \n",
       "153          154         0       3             Mr. Austin Blyler   \n",
       "868          869         0       3                  Mr. Philemon   \n",
       "\n",
       "           Surname     Sex   Age  SibSp  Parch         Ticket     Fare Cabin  \\\n",
       "845         Abbing    male  42.0    0.0      0      C.A. 5547   7.5500   NaN   \n",
       "279         Abbott  female  35.0    1.0      1      C.A. 2673  20.2500   NaN   \n",
       "746         Abbott    male  16.0    1.0      1      C.A. 2673  20.2500   NaN   \n",
       "874        Abelson  female  28.0    1.0      0      P/PP 3381  24.0000   NaN   \n",
       "308        Abelson    male  30.0    1.0      0      P/PP 3381      NaN   NaN   \n",
       "..             ...     ...   ...    ...    ...            ...      ...   ...   \n",
       "286      de Mulder    male  30.0    0.0      0         345774   9.5000   NaN   \n",
       "282  de Pelsmaeker    male  16.0    0.0      0         345778   9.5000   NaN   \n",
       "361      del Carlo    male  29.0    1.0      0  SC/PARIS 2167  27.7208   NaN   \n",
       "153   van Billiard    male  40.5    NaN      2       A/5. 851  14.5000   NaN   \n",
       "868  van Melkebeke    male   NaN    0.0      0         345777   9.5000   NaN   \n",
       "\n",
       "    Embarked  \n",
       "845        S  \n",
       "279        S  \n",
       "746        S  \n",
       "874        C  \n",
       "308        C  \n",
       "..       ...  \n",
       "286        S  \n",
       "282      NaN  \n",
       "361        C  \n",
       "153      NaN  \n",
       "868      NaN  \n",
       "\n",
       "[891 rows x 13 columns]"
      ]
     },
     "execution_count": 241,
     "metadata": {},
     "output_type": "execute_result"
    }
   ],
   "source": [
    "names = titanic_df_missing['Name'].str.split(', ', n = 1, expand = True)\n",
    "titanic_df_missing.insert(4,'Surname',names[0])\n",
    "titanic_df_missing['Name'] = names[1]\n",
    "\n",
    "#for col in ['Surname','Age']:\n",
    "    #titanic_df_missing = titanic_df_missing[col].astype('category')\n",
    "    #titanic_df_missing = titanic_df_missing[col].cat.codes\n",
    "    \n",
    "\n",
    "titanic_df_missing.sort_values(by=['Surname'])"
   ]
  },
  {
   "cell_type": "raw",
   "metadata": {},
   "source": [
    "Anlattiklarimin kodlama olarka karsiligini bulamiyorum. Baska bir notebook dosyasinda da denemeler yaptim ama sonuca ulasamadim. Bu konu uzerinde biraz daha calisip daha sonra tamamlayacagim. Derste konu ilgili yerlere gelirse konu hakkinda sorularimi sorarim. Eger vaktiniz varsa ve Turkce olarka yazdigim metni Python'a cevirebileceksek her turlu yardima acik oldugumu belirtmek isterim :)"
   ]
  },
  {
   "cell_type": "markdown",
   "metadata": {},
   "source": [
    "# Soru 10"
   ]
  },
  {
   "cell_type": "markdown",
   "metadata": {},
   "source": [
    "Datayı baştan okuyun. Embarked değişkenini \"NAN\" şeklinde yeni bir kategorisi olacak şekilde doldurun."
   ]
  },
  {
   "cell_type": "code",
   "execution_count": 242,
   "metadata": {},
   "outputs": [],
   "source": [
    "titanic_df_missing = pd.read_csv('train_missing.csv')"
   ]
  },
  {
   "cell_type": "code",
   "execution_count": 243,
   "metadata": {},
   "outputs": [
    {
     "data": {
      "text/plain": [
       "0        S\n",
       "1        C\n",
       "2      NAN\n",
       "3        S\n",
       "4      NAN\n",
       "      ... \n",
       "886      S\n",
       "887      S\n",
       "888      S\n",
       "889    NAN\n",
       "890      Q\n",
       "Name: Embarked, Length: 891, dtype: category\n",
       "Categories (4, object): [C, Q, S, NAN]"
      ]
     },
     "metadata": {},
     "output_type": "display_data"
    }
   ],
   "source": [
    "titanic_df_missing['Embarked'] = titanic_df_missing['Embarked'].astype('category')\n",
    "titanic_df_missing['Embarked'] = titanic_df_missing['Embarked'].cat.add_categories('NAN').fillna('NAN')\n",
    "display(titanic_df_missing['Embarked'])"
   ]
  },
  {
   "cell_type": "markdown",
   "metadata": {},
   "source": [
    "# Soru 11"
   ]
  },
  {
   "cell_type": "markdown",
   "metadata": {},
   "source": [
    "\"Fare\" değişkeni için \"Fare_Missing\" adında yeni bir değişken türetip \"Fare\" değişkenini median ile doldurun."
   ]
  },
  {
   "cell_type": "code",
   "execution_count": 244,
   "metadata": {},
   "outputs": [
    {
     "data": {
      "text/html": [
       "<div>\n",
       "<style scoped>\n",
       "    .dataframe tbody tr th:only-of-type {\n",
       "        vertical-align: middle;\n",
       "    }\n",
       "\n",
       "    .dataframe tbody tr th {\n",
       "        vertical-align: top;\n",
       "    }\n",
       "\n",
       "    .dataframe thead th {\n",
       "        text-align: right;\n",
       "    }\n",
       "</style>\n",
       "<table border=\"1\" class=\"dataframe\">\n",
       "  <thead>\n",
       "    <tr style=\"text-align: right;\">\n",
       "      <th></th>\n",
       "      <th>PassengerId</th>\n",
       "      <th>Survived</th>\n",
       "      <th>Pclass</th>\n",
       "      <th>Name</th>\n",
       "      <th>Sex</th>\n",
       "      <th>Age</th>\n",
       "      <th>SibSp</th>\n",
       "      <th>Parch</th>\n",
       "      <th>Ticket</th>\n",
       "      <th>Fare</th>\n",
       "      <th>Cabin</th>\n",
       "      <th>Embarked</th>\n",
       "      <th>Fare_Missing</th>\n",
       "    </tr>\n",
       "  </thead>\n",
       "  <tbody>\n",
       "    <tr>\n",
       "      <th>0</th>\n",
       "      <td>1</td>\n",
       "      <td>0</td>\n",
       "      <td>3</td>\n",
       "      <td>Braund, Mr. Owen Harris</td>\n",
       "      <td>male</td>\n",
       "      <td>22.0</td>\n",
       "      <td>1.0</td>\n",
       "      <td>0</td>\n",
       "      <td>A/5 21171</td>\n",
       "      <td>7.25000</td>\n",
       "      <td>NaN</td>\n",
       "      <td>S</td>\n",
       "      <td>7.2500</td>\n",
       "    </tr>\n",
       "    <tr>\n",
       "      <th>1</th>\n",
       "      <td>2</td>\n",
       "      <td>1</td>\n",
       "      <td>1</td>\n",
       "      <td>Cumings, Mrs. John Bradley (Florence Briggs Th...</td>\n",
       "      <td>female</td>\n",
       "      <td>38.0</td>\n",
       "      <td>1.0</td>\n",
       "      <td>0</td>\n",
       "      <td>PC 17599</td>\n",
       "      <td>71.28330</td>\n",
       "      <td>C85</td>\n",
       "      <td>C</td>\n",
       "      <td>71.2833</td>\n",
       "    </tr>\n",
       "    <tr>\n",
       "      <th>2</th>\n",
       "      <td>3</td>\n",
       "      <td>1</td>\n",
       "      <td>3</td>\n",
       "      <td>Heikkinen, Miss. Laina</td>\n",
       "      <td>female</td>\n",
       "      <td>26.0</td>\n",
       "      <td>0.0</td>\n",
       "      <td>0</td>\n",
       "      <td>STON/O2. 3101282</td>\n",
       "      <td>7.92500</td>\n",
       "      <td>NaN</td>\n",
       "      <td>NAN</td>\n",
       "      <td>7.9250</td>\n",
       "    </tr>\n",
       "    <tr>\n",
       "      <th>3</th>\n",
       "      <td>4</td>\n",
       "      <td>1</td>\n",
       "      <td>1</td>\n",
       "      <td>Futrelle, Mrs. Jacques Heath (Lily May Peel)</td>\n",
       "      <td>female</td>\n",
       "      <td>35.0</td>\n",
       "      <td>1.0</td>\n",
       "      <td>0</td>\n",
       "      <td>113803</td>\n",
       "      <td>53.10000</td>\n",
       "      <td>C123</td>\n",
       "      <td>S</td>\n",
       "      <td>53.1000</td>\n",
       "    </tr>\n",
       "    <tr>\n",
       "      <th>4</th>\n",
       "      <td>5</td>\n",
       "      <td>0</td>\n",
       "      <td>3</td>\n",
       "      <td>Allen, Mr. William Henry</td>\n",
       "      <td>male</td>\n",
       "      <td>35.0</td>\n",
       "      <td>0.0</td>\n",
       "      <td>0</td>\n",
       "      <td>373450</td>\n",
       "      <td>8.05000</td>\n",
       "      <td>NaN</td>\n",
       "      <td>NAN</td>\n",
       "      <td>8.0500</td>\n",
       "    </tr>\n",
       "    <tr>\n",
       "      <th>...</th>\n",
       "      <td>...</td>\n",
       "      <td>...</td>\n",
       "      <td>...</td>\n",
       "      <td>...</td>\n",
       "      <td>...</td>\n",
       "      <td>...</td>\n",
       "      <td>...</td>\n",
       "      <td>...</td>\n",
       "      <td>...</td>\n",
       "      <td>...</td>\n",
       "      <td>...</td>\n",
       "      <td>...</td>\n",
       "      <td>...</td>\n",
       "    </tr>\n",
       "    <tr>\n",
       "      <th>886</th>\n",
       "      <td>887</td>\n",
       "      <td>0</td>\n",
       "      <td>2</td>\n",
       "      <td>Montvila, Rev. Juozas</td>\n",
       "      <td>male</td>\n",
       "      <td>27.0</td>\n",
       "      <td>0.0</td>\n",
       "      <td>0</td>\n",
       "      <td>211536</td>\n",
       "      <td>13.00000</td>\n",
       "      <td>NaN</td>\n",
       "      <td>S</td>\n",
       "      <td>13.0000</td>\n",
       "    </tr>\n",
       "    <tr>\n",
       "      <th>887</th>\n",
       "      <td>888</td>\n",
       "      <td>1</td>\n",
       "      <td>1</td>\n",
       "      <td>Graham, Miss. Margaret Edith</td>\n",
       "      <td>female</td>\n",
       "      <td>19.0</td>\n",
       "      <td>0.0</td>\n",
       "      <td>0</td>\n",
       "      <td>112053</td>\n",
       "      <td>30.00000</td>\n",
       "      <td>B42</td>\n",
       "      <td>S</td>\n",
       "      <td>30.0000</td>\n",
       "    </tr>\n",
       "    <tr>\n",
       "      <th>888</th>\n",
       "      <td>889</td>\n",
       "      <td>0</td>\n",
       "      <td>3</td>\n",
       "      <td>Johnston, Miss. Catherine Helen \"Carrie\"</td>\n",
       "      <td>female</td>\n",
       "      <td>NaN</td>\n",
       "      <td>1.0</td>\n",
       "      <td>2</td>\n",
       "      <td>W./C. 6607</td>\n",
       "      <td>14.45625</td>\n",
       "      <td>NaN</td>\n",
       "      <td>S</td>\n",
       "      <td>NaN</td>\n",
       "    </tr>\n",
       "    <tr>\n",
       "      <th>889</th>\n",
       "      <td>890</td>\n",
       "      <td>1</td>\n",
       "      <td>1</td>\n",
       "      <td>Behr, Mr. Karl Howell</td>\n",
       "      <td>male</td>\n",
       "      <td>26.0</td>\n",
       "      <td>0.0</td>\n",
       "      <td>0</td>\n",
       "      <td>111369</td>\n",
       "      <td>30.00000</td>\n",
       "      <td>C148</td>\n",
       "      <td>NAN</td>\n",
       "      <td>30.0000</td>\n",
       "    </tr>\n",
       "    <tr>\n",
       "      <th>890</th>\n",
       "      <td>891</td>\n",
       "      <td>0</td>\n",
       "      <td>3</td>\n",
       "      <td>Dooley, Mr. Patrick</td>\n",
       "      <td>male</td>\n",
       "      <td>32.0</td>\n",
       "      <td>0.0</td>\n",
       "      <td>0</td>\n",
       "      <td>370376</td>\n",
       "      <td>7.75000</td>\n",
       "      <td>NaN</td>\n",
       "      <td>Q</td>\n",
       "      <td>7.7500</td>\n",
       "    </tr>\n",
       "  </tbody>\n",
       "</table>\n",
       "<p>891 rows × 13 columns</p>\n",
       "</div>"
      ],
      "text/plain": [
       "     PassengerId  Survived  Pclass  \\\n",
       "0              1         0       3   \n",
       "1              2         1       1   \n",
       "2              3         1       3   \n",
       "3              4         1       1   \n",
       "4              5         0       3   \n",
       "..           ...       ...     ...   \n",
       "886          887         0       2   \n",
       "887          888         1       1   \n",
       "888          889         0       3   \n",
       "889          890         1       1   \n",
       "890          891         0       3   \n",
       "\n",
       "                                                  Name     Sex   Age  SibSp  \\\n",
       "0                              Braund, Mr. Owen Harris    male  22.0    1.0   \n",
       "1    Cumings, Mrs. John Bradley (Florence Briggs Th...  female  38.0    1.0   \n",
       "2                               Heikkinen, Miss. Laina  female  26.0    0.0   \n",
       "3         Futrelle, Mrs. Jacques Heath (Lily May Peel)  female  35.0    1.0   \n",
       "4                             Allen, Mr. William Henry    male  35.0    0.0   \n",
       "..                                                 ...     ...   ...    ...   \n",
       "886                              Montvila, Rev. Juozas    male  27.0    0.0   \n",
       "887                       Graham, Miss. Margaret Edith  female  19.0    0.0   \n",
       "888           Johnston, Miss. Catherine Helen \"Carrie\"  female   NaN    1.0   \n",
       "889                              Behr, Mr. Karl Howell    male  26.0    0.0   \n",
       "890                                Dooley, Mr. Patrick    male  32.0    0.0   \n",
       "\n",
       "     Parch            Ticket      Fare Cabin Embarked  Fare_Missing  \n",
       "0        0         A/5 21171   7.25000   NaN        S        7.2500  \n",
       "1        0          PC 17599  71.28330   C85        C       71.2833  \n",
       "2        0  STON/O2. 3101282   7.92500   NaN      NAN        7.9250  \n",
       "3        0            113803  53.10000  C123        S       53.1000  \n",
       "4        0            373450   8.05000   NaN      NAN        8.0500  \n",
       "..     ...               ...       ...   ...      ...           ...  \n",
       "886      0            211536  13.00000   NaN        S       13.0000  \n",
       "887      0            112053  30.00000   B42        S       30.0000  \n",
       "888      2        W./C. 6607  14.45625   NaN        S           NaN  \n",
       "889      0            111369  30.00000  C148      NAN       30.0000  \n",
       "890      0            370376   7.75000   NaN        Q        7.7500  \n",
       "\n",
       "[891 rows x 13 columns]"
      ]
     },
     "metadata": {},
     "output_type": "display_data"
    }
   ],
   "source": [
    "titanic_df_missing['Fare_Missing'] = titanic_df_missing[\"Fare\"]\n",
    "titanic_df_missing['Fare'] = titanic_df_missing['Fare'].fillna(titanic_df_missing['Fare'].median())\n",
    "display(titanic_df_missing)"
   ]
  }
 ],
 "metadata": {
  "kernelspec": {
   "display_name": "Python 3",
   "language": "python",
   "name": "python3"
  },
  "language_info": {
   "codemirror_mode": {
    "name": "ipython",
    "version": 3
   },
   "file_extension": ".py",
   "mimetype": "text/x-python",
   "name": "python",
   "nbconvert_exporter": "python",
   "pygments_lexer": "ipython3",
   "version": "3.7.6"
  }
 },
 "nbformat": 4,
 "nbformat_minor": 2
}
